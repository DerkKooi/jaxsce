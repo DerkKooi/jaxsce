{
 "cells": [
  {
   "cell_type": "code",
   "execution_count": 1,
   "metadata": {},
   "outputs": [
    {
     "name": "stderr",
     "output_type": "stream",
     "text": [
      "/Users/derk/miniconda3/envs/jaxsce/lib/python3.10/site-packages/pyscf/dft/libxc.py:772: UserWarning: Since PySCF-2.3, B3LYP (and B3P86) are changed to the VWN-RPA variant, the same to the B3LYP functional in Gaussian and ORCA (issue 1480). To restore the VWN5 definition, you can put the setting \"B3LYP_WITH_VWN5 = True\" in pyscf_conf.py\n",
      "  warnings.warn('Since PySCF-2.3, B3LYP (and B3P86) are changed to the VWN-RPA variant, '\n"
     ]
    }
   ],
   "source": [
    "import jax.numpy as jnp\n",
    "from jax.config import config\n",
    "\n",
    "from jaxsce import densities\n",
    "\n",
    "config.update(\"jax_enable_x64\", True)\n",
    "\n",
    "name = \"sqrt_r\"\n",
    "kwargs = {\"Nel\": 10}"
   ]
  },
  {
   "cell_type": "code",
   "execution_count": 2,
   "metadata": {},
   "outputs": [],
   "source": [
    "def test_Nel_density(name: str, kwargs: dict):\n",
    "    # Intitialize density\n",
    "    density = densities.get_density(name, **kwargs)\n",
    "\n",
    "    # Check that density has all the required attributes\n",
    "    assert density.Nel\n",
    "    assert jnp.all(density.a >= 0.0)\n",
    "    assert density.a.shape == (density.Nel,)\n",
    "    assert density.LDA_int\n",
    "    assert density.GEA_int\n",
    "\n",
    "    # Test positivity of density\n",
    "    rho = density.rho(density.a)\n",
    "    assert jnp.all(rho >= 0.0)\n",
    "\n",
    "    # Test that cumulant integrates to the correct number of electrons\n",
    "    Ne = density.Ne(density.a)\n",
    "    assert jnp.allclose(Ne, jnp.arange(density.Nel))\n",
    "\n",
    "    # Test that the derivative of the cumulant is correct\n",
    "    Ne_deriv = density.Ne_deriv(density.a)\n",
    "    assert jnp.allclose(Ne_deriv, 4 * jnp.pi * density.a**2 * rho)\n",
    "\n",
    "    # Test if the second derivative works\n",
    "    Ne_deriv2 = density.Ne_deriv2(density.a)\n",
    "\n",
    "    # Test that the co-Cumulant is positive\n",
    "    coNe = density.coNe(density.a)\n",
    "    assert jnp.all(coNe >= 0.0)\n",
    "\n",
    "    # Test that the derivative of the co-Cumulant works\n",
    "    density.coNe_deriv(density.a)\n",
    "\n",
    "    # Test that the inverse of the cumulant is correct\n",
    "    invNe = density.invNe(Ne)\n",
    "    assert jnp.allclose(invNe, density.a)\n",
    "\n",
    "    # Test that the derivative of the inverse of the cumulant is correct\n",
    "    invNe_deriv = density.invNe_deriv(Ne, invNe)\n",
    "    assert jnp.allclose(invNe_deriv, 1.0 / Ne_deriv)\n",
    "\n",
    "    # Test that the co-motion functions are positive\n",
    "    co_motion_function = density.co_motion_function(density.a[1])\n",
    "    assert jnp.all(co_motion_function >= 0.0)\n",
    "    co_motion_functions = density.co_motion_functions(density.a)\n",
    "    assert jnp.all(co_motion_functions >= 0.0)\n",
    "    assert jnp.allclose(co_motion_function, co_motion_functions[1])\n",
    "\n",
    "    # Test that the co-motion functions and its derivatives computed from Ne\n",
    "    # are the same as those computed from a\n",
    "    co_motion_function_Ne = density.co_motion_function_Ne(Ne[1])\n",
    "    assert jnp.allclose(co_motion_function_Ne, co_motion_function)\n",
    "    co_motion_functions_Ne = density.co_motion_functions_Ne(Ne)\n",
    "    assert jnp.allclose(co_motion_functions_Ne, co_motion_functions)\n",
    "    co_motion_function_deriv = density.co_motion_function_deriv(density.a[1])\n",
    "    co_motion_function_deriv_Ne = density.co_motion_function_deriv_Ne(Ne[1])\n",
    "    assert jnp.allclose(co_motion_function_deriv, co_motion_function_deriv_Ne*Ne_deriv[1])\n",
    "    co_motion_functions_deriv = density.co_motion_functions_deriv(density.a)\n",
    "    co_motion_functions_deriv_Ne = density.co_motion_functions_deriv_Ne(Ne)\n",
    "    # only test derivatives for a[1:] because co-motion functions are ill behaved at zero\n",
    "    assert jnp.allclose(co_motion_functions_deriv[1:], co_motion_functions_deriv_Ne[1:]*Ne_deriv[1:, None])\n",
    "    co_motion_function_deriv2 = density.co_motion_function_deriv2(density.a[1])\n",
    "    co_motion_function_deriv2_Ne = density.co_motion_function_deriv2_Ne(Ne[1])\n",
    "    assert jnp.allclose(co_motion_function_deriv2, co_motion_function_deriv2_Ne*Ne_deriv[1]**2+co_motion_function_deriv_Ne*Ne_deriv2[1])\n",
    "    co_motion_functions_deriv2 = density.co_motion_functions_deriv2(density.a)\n",
    "    co_motion_functions_deriv2_Ne = density.co_motion_functions_deriv2_Ne(Ne)\n",
    "    assert jnp.allclose(co_motion_functions_deriv2[1:], co_motion_functions_deriv2_Ne[1:]*Ne_deriv[1:, None]**2+co_motion_functions_deriv_Ne[1:, :]*Ne_deriv2[1:, None])\n",
    "\n",
    "    # Test that vH is positive\n",
    "    vH = density.vH(density.a)\n",
    "    assert jnp.all(vH >= 0.0)\n",
    "\n",
    "    # Test that the derivative of vH works\n",
    "    density.vH_deriv(density.a)\n"
   ]
  },
  {
   "cell_type": "code",
   "execution_count": 5,
   "metadata": {},
   "outputs": [
    {
     "ename": "AssertionError",
     "evalue": "",
     "output_type": "error",
     "traceback": [
      "\u001b[0;31m---------------------------------------------------------------------------\u001b[0m",
      "\u001b[0;31mAssertionError\u001b[0m                            Traceback (most recent call last)",
      "Cell \u001b[0;32mIn[5], line 1\u001b[0m\n\u001b[0;32m----> 1\u001b[0m test_Nel_density(name, kwargs)\n",
      "Cell \u001b[0;32mIn[2], line 61\u001b[0m, in \u001b[0;36mtest_Nel_density\u001b[0;34m(name, kwargs)\u001b[0m\n\u001b[1;32m     59\u001b[0m co_motion_functions_deriv_Ne \u001b[39m=\u001b[39m density\u001b[39m.\u001b[39mco_motion_functions_deriv_Ne(Ne)\n\u001b[1;32m     60\u001b[0m \u001b[39m# only test derivatives for a[1:] because co-motion functions are ill behaved at zero\u001b[39;00m\n\u001b[0;32m---> 61\u001b[0m \u001b[39massert\u001b[39;00m jnp\u001b[39m.\u001b[39mallclose(co_motion_functions_deriv[\u001b[39m1\u001b[39m:], co_motion_functions_deriv_Ne[\u001b[39m1\u001b[39m:]\u001b[39m*\u001b[39mNe_deriv[\u001b[39m1\u001b[39m:, \u001b[39mNone\u001b[39;00m])\n\u001b[1;32m     62\u001b[0m co_motion_function_deriv2 \u001b[39m=\u001b[39m density\u001b[39m.\u001b[39mco_motion_function_deriv2(density\u001b[39m.\u001b[39ma[\u001b[39m1\u001b[39m])\n\u001b[1;32m     63\u001b[0m co_motion_function_deriv2_Ne \u001b[39m=\u001b[39m density\u001b[39m.\u001b[39mco_motion_function_deriv2_Ne(Ne[\u001b[39m1\u001b[39m])\n",
      "\u001b[0;31mAssertionError\u001b[0m: "
     ]
    }
   ],
   "source": [
    "test_Nel_density(name, kwargs)"
   ]
  },
  {
   "cell_type": "code",
   "execution_count": 22,
   "metadata": {},
   "outputs": [
    {
     "ename": "AssertionError",
     "evalue": "",
     "output_type": "error",
     "traceback": [
      "\u001b[0;31m---------------------------------------------------------------------------\u001b[0m",
      "\u001b[0;31mAssertionError\u001b[0m                            Traceback (most recent call last)",
      "Cell \u001b[0;32mIn[22], line 79\u001b[0m\n\u001b[1;32m     69\u001b[0m \u001b[39m# TODO: Second derivatives need a sign fix!\u001b[39;00m\n\u001b[1;32m     70\u001b[0m \u001b[39m# co_motion_function_deriv2 = density.co_motion_function_deriv2(r[1])\u001b[39;00m\n\u001b[1;32m     71\u001b[0m \u001b[39m# co_motion_function_deriv2_Ne = density.co_motion_function_deriv2_Ne(Ne[1])\u001b[39;00m\n\u001b[0;32m   (...)\u001b[0m\n\u001b[1;32m     76\u001b[0m \n\u001b[1;32m     77\u001b[0m \u001b[39m# Test that vH is positive\u001b[39;00m\n\u001b[1;32m     78\u001b[0m vH \u001b[39m=\u001b[39m density\u001b[39m.\u001b[39mvH(density\u001b[39m.\u001b[39ma)\n\u001b[0;32m---> 79\u001b[0m \u001b[39massert\u001b[39;00m jnp\u001b[39m.\u001b[39mall(vH \u001b[39m>\u001b[39m\u001b[39m=\u001b[39m \u001b[39m0.0\u001b[39m)\n\u001b[1;32m     81\u001b[0m \u001b[39m# Test that the derivative of vH works\u001b[39;00m\n\u001b[1;32m     82\u001b[0m density\u001b[39m.\u001b[39mvH_deriv(density\u001b[39m.\u001b[39ma)\n",
      "\u001b[0;31mAssertionError\u001b[0m: "
     ]
    }
   ],
   "source": [
    "# Intitialize density\n",
    "density = densities.get_density(name, **kwargs)\n",
    "\n",
    "# Check that density has all the required attributes\n",
    "assert density.Nel\n",
    "assert jnp.all(density.a >= 0.0)\n",
    "assert density.a.shape == (density.Nel,)\n",
    "assert density.LDA_int\n",
    "assert density.GEA_int\n",
    "\n",
    "# Test positivity of density\n",
    "rho = density.rho(density.a)\n",
    "assert jnp.all(rho >= 0.0)\n",
    "\n",
    "# Test that cumulant integrates to the correct number of electrons\n",
    "Ne = density.Ne(density.a)\n",
    "assert jnp.allclose(Ne, jnp.arange(density.Nel))\n",
    "\n",
    "# Test that the derivative of the cumulant is correct\n",
    "Ne_deriv = density.Ne_deriv(density.a)\n",
    "assert jnp.allclose(Ne_deriv, 4 * jnp.pi * density.a**2 * rho)\n",
    "\n",
    "# Test if the second derivative works\n",
    "Ne_deriv2 = density.Ne_deriv2(density.a)\n",
    "\n",
    "# Test that the co-Cumulant is positive\n",
    "coNe = density.coNe(density.a)\n",
    "assert jnp.all(coNe >= 0.0)\n",
    "\n",
    "# Test that the derivative of the co-Cumulant works\n",
    "density.coNe_deriv(density.a)\n",
    "\n",
    "# Test that the inverse of the cumulant is correct\n",
    "invNe = density.invNe(Ne)\n",
    "assert jnp.allclose(invNe, density.a)\n",
    "\n",
    "# Test that the derivative of the inverse of the cumulant is correct\n",
    "invNe_deriv = density.invNe_deriv(Ne, invNe)\n",
    "assert jnp.allclose(invNe_deriv, 1.0 / Ne_deriv)\n",
    "\n",
    "# Test that the co-motion functions are positive\n",
    "co_motion_function = density.co_motion_function(density.a[1])\n",
    "assert jnp.all(co_motion_function >= 0.0)\n",
    "co_motion_functions = density.co_motion_functions(density.a)\n",
    "assert jnp.all(co_motion_functions >= 0.0)\n",
    "assert jnp.allclose(co_motion_function, co_motion_functions[1])\n",
    "\n",
    "# Test that the co-motion functions and its derivatives computed from Ne\n",
    "# are equal to the ones computed from r=a\n",
    "co_motion_function_Ne = density.co_motion_function_Ne(Ne[1])\n",
    "assert jnp.allclose(co_motion_function_Ne, co_motion_function)\n",
    "co_motion_functions_Ne = density.co_motion_functions_Ne(Ne)\n",
    "assert jnp.allclose(co_motion_functions_Ne, co_motion_functions)\n",
    "\n",
    "# We don't want to compute the derivatives at a, because the co-motions\n",
    "# there are singular\n",
    "r = jnp.array([0.5, 1., 1.5, 2.])\n",
    "Ne = density.Ne(r)\n",
    "Ne_deriv = density.Ne_deriv(r)\n",
    "density.Ne_deriv2(r)\n",
    "co_motion_function_deriv = density.co_motion_function_deriv(r[1])\n",
    "co_motion_function_deriv_Ne = density.co_motion_function_deriv_Ne(Ne[1])\n",
    "assert jnp.allclose(co_motion_function_deriv, co_motion_function_deriv_Ne*Ne_deriv[1])\n",
    "co_motion_functions_deriv = density.co_motion_functions_deriv(r)\n",
    "co_motion_functions_deriv_Ne = density.co_motion_functions_deriv_Ne(Ne)\n",
    "# only test derivatives for a[1:] because co-motion functions are ill behaved at zero\n",
    "assert jnp.allclose(co_motion_functions_deriv, co_motion_functions_deriv_Ne*Ne_deriv[:, None])\n",
    "\n",
    "# TODO: Second derivatives need a sign fix!\n",
    "# co_motion_function_deriv2 = density.co_motion_function_deriv2(r[1])\n",
    "# co_motion_function_deriv2_Ne = density.co_motion_function_deriv2_Ne(Ne[1])\n",
    "# assert jnp.allclose(co_motion_function_deriv2, co_motion_function_deriv2_Ne*Ne_deriv[1]**2+co_motion_function_deriv_Ne*Ne_deriv2[1])\n",
    "# co_motion_functions_deriv2 = density.co_motion_functions_deriv2(density.a)\n",
    "# co_motion_functions_deriv2_Ne = density.co_motion_functions_deriv2_Ne(Ne)\n",
    "# assert jnp.allclose(co_motion_functions_deriv2[:], co_motion_functions_deriv2_Ne[:]*Ne_deriv[:, None]**2+co_motion_functions_deriv_Ne*Ne_deriv2[:, None])\n",
    "\n",
    "# Test that vH is positive\n",
    "vH = density.vH(density.a)\n",
    "assert jnp.all(vH >= 0.0)\n",
    "\n",
    "# Test that the derivative of vH works\n",
    "density.vH_deriv(density.a)"
   ]
  },
  {
   "cell_type": "code",
   "execution_count": 21,
   "metadata": {},
   "outputs": [
    {
     "ename": "AssertionError",
     "evalue": "",
     "output_type": "error",
     "traceback": [
      "\u001b[0;31m---------------------------------------------------------------------------\u001b[0m",
      "\u001b[0;31mAssertionError\u001b[0m                            Traceback (most recent call last)",
      "Cell \u001b[0;32mIn[21], line 18\u001b[0m\n\u001b[1;32m     16\u001b[0m co_motion_functions_deriv2 \u001b[39m=\u001b[39m density\u001b[39m.\u001b[39mco_motion_functions_deriv2(r)\n\u001b[1;32m     17\u001b[0m co_motion_functions_deriv2_Ne \u001b[39m=\u001b[39m density\u001b[39m.\u001b[39mco_motion_functions_deriv2_Ne(Ne)\n\u001b[0;32m---> 18\u001b[0m \u001b[39massert\u001b[39;00m jnp\u001b[39m.\u001b[39mallclose(co_motion_functions_deriv2, co_motion_functions_deriv2_Ne\u001b[39m*\u001b[39mNe_deriv[:, \u001b[39mNone\u001b[39;00m]\u001b[39m*\u001b[39m\u001b[39m*\u001b[39m\u001b[39m2\u001b[39m\u001b[39m+\u001b[39mco_motion_functions_deriv_Ne\u001b[39m*\u001b[39mNe_deriv2[:, \u001b[39mNone\u001b[39;00m])\n\u001b[1;32m     20\u001b[0m \u001b[39m# Test that vH is positive\u001b[39;00m\n\u001b[1;32m     21\u001b[0m vH \u001b[39m=\u001b[39m density\u001b[39m.\u001b[39mvH(density\u001b[39m.\u001b[39ma)\n",
      "\u001b[0;31mAssertionError\u001b[0m: "
     ]
    }
   ],
   "source": [
    "# Test that the co-motion functions and its derivatives computed from Ne\n",
    "r = jnp.array([0.5, 1., 1.5, 2.])\n",
    "Ne = density.Ne(r)\n",
    "Ne_deriv = density.Ne_deriv(r)\n",
    "Ne_deriv2 = density.Ne_deriv2(r)\n",
    "co_motion_function_deriv = density.co_motion_function_deriv(r[0])\n",
    "co_motion_function_deriv_Ne = density.co_motion_function_deriv_Ne(Ne[0])\n",
    "assert jnp.allclose(co_motion_function_deriv, co_motion_function_deriv_Ne*Ne_deriv[0])\n",
    "co_motion_functions_deriv = density.co_motion_functions_deriv(r)\n",
    "co_motion_functions_deriv_Ne = density.co_motion_functions_deriv_Ne(Ne)\n",
    "# only test derivatives for a[1:] because co-motion functions are ill behaved at zero\n",
    "assert jnp.allclose(co_motion_functions_deriv, co_motion_functions_deriv_Ne*Ne_deriv[:, None])\n",
    "# co_motion_function_deriv2 = density.co_motion_function_deriv2(r[0])\n",
    "# co_motion_function_deriv2_Ne = density.co_motion_function_deriv2_Ne(Ne[0])\n",
    "# assert jnp.allclose(co_motion_function_deriv2, co_motion_function_deriv2_Ne*Ne_deriv[0]**2+co_motion_function_deriv_Ne*Ne_deriv2[0])\n",
    "co_motion_functions_deriv2 = density.co_motion_functions_deriv2(r)\n",
    "co_motion_functions_deriv2_Ne = density.co_motion_functions_deriv2_Ne(Ne)\n",
    "assert jnp.allclose(co_motion_functions_deriv2, co_motion_functions_deriv2_Ne*Ne_deriv[:, None]**2+co_motion_functions_deriv_Ne*Ne_deriv2[:, None])\n",
    "\n",
    "# Test that vH is positive\n",
    "vH = density.vH(density.a)\n",
    "assert jnp.all(vH >= 0.0)\n",
    "\n",
    "# Test that the derivative of vH works\n",
    "density.vH_deriv(density.a)"
   ]
  },
  {
   "cell_type": "code",
   "execution_count": 14,
   "metadata": {},
   "outputs": [
    {
     "data": {
      "text/plain": [
       "Array([ 0.        , -0.66705519,  0.66295086, -0.68763517,  0.73280774,\n",
       "       -0.86073055,  1.01538529, -1.49647233,  2.34653081,  4.17741074],      dtype=float64)"
      ]
     },
     "execution_count": 14,
     "metadata": {},
     "output_type": "execute_result"
    }
   ],
   "source": [
    "co_motion_function_deriv2"
   ]
  },
  {
   "cell_type": "code",
   "execution_count": 19,
   "metadata": {},
   "outputs": [
    {
     "data": {
      "text/plain": [
       "Array([-1.77635684e-15,  9.16752340e-01,  6.62950865e-01,  6.74666021e-01,\n",
       "        7.32807737e-01,  7.10161210e-01,  1.01538529e+00,  9.10457494e-01,\n",
       "        2.34653081e+00,  4.17741074e+00], dtype=float64)"
      ]
     },
     "execution_count": 19,
     "metadata": {},
     "output_type": "execute_result"
    }
   ],
   "source": [
    "co_motion_function_deriv2_Ne*Ne_deriv[1]**2+co_motion_function_deriv_Ne*Ne_deriv2[1]"
   ]
  },
  {
   "cell_type": "code",
   "execution_count": 13,
   "metadata": {},
   "outputs": [
    {
     "data": {
      "text/plain": [
       "Array([ 1.77635684e-15, -1.58380753e+00,  2.22044605e-16, -1.36230119e+00,\n",
       "        0.00000000e+00, -1.57089176e+00,  0.00000000e+00, -2.40692983e+00,\n",
       "        2.22044605e-16, -1.77635684e-15], dtype=float64)"
      ]
     },
     "execution_count": 13,
     "metadata": {},
     "output_type": "execute_result"
    }
   ],
   "source": [
    "co_motion_function_deriv2-co_motion_function_deriv2_Ne*Ne_deriv[1]**2-co_motion_function_deriv_Ne*Ne_deriv2[1]"
   ]
  },
  {
   "cell_type": "code",
   "execution_count": 29,
   "metadata": {},
   "outputs": [
    {
     "ename": "TypeError",
     "evalue": "'DynamicJaxprTracer' object is not callable",
     "output_type": "error",
     "traceback": [
      "\u001b[0;31m---------------------------------------------------------------------------\u001b[0m",
      "\u001b[0;31mTypeError\u001b[0m                                 Traceback (most recent call last)",
      "Cell \u001b[0;32mIn[29], line 1\u001b[0m\n\u001b[0;32m----> 1\u001b[0m density\u001b[39m.\u001b[39;49mco_motion_function_deriv2(\u001b[39m1.\u001b[39;49m)\n",
      "    \u001b[0;31m[... skipping hidden 11 frame]\u001b[0m\n",
      "File \u001b[0;32m~/Dropbox/git/jaxsce/jaxsce/densities/classes.py:754\u001b[0m, in \u001b[0;36mDensity.co_motion_function_deriv2\u001b[0;34m(self, r, f, f_deriv)\u001b[0m\n\u001b[1;32m    752\u001b[0m \u001b[39mif\u001b[39;00m f_deriv \u001b[39mis\u001b[39;00m \u001b[39mNone\u001b[39;00m:\n\u001b[1;32m    753\u001b[0m     f_deriv \u001b[39m=\u001b[39m \u001b[39mself\u001b[39m\u001b[39m.\u001b[39mco_motion_function_deriv(r, f)\n\u001b[0;32m--> 754\u001b[0m \u001b[39mreturn\u001b[39;00m (\u001b[39m-\u001b[39m\u001b[39m1\u001b[39m) \u001b[39m*\u001b[39m\u001b[39m*\u001b[39m jnp\u001b[39m.\u001b[39;49marange(\u001b[39mself\u001b[39;49m\u001b[39m.\u001b[39;49mNel)(\n\u001b[1;32m    755\u001b[0m     \u001b[39m2\u001b[39;49m \u001b[39m*\u001b[39;49m r \u001b[39m*\u001b[39;49m \u001b[39mself\u001b[39;49m\u001b[39m.\u001b[39;49mrho(r) \u001b[39m/\u001b[39;49m (f\u001b[39m*\u001b[39;49m\u001b[39m*\u001b[39;49m\u001b[39m2\u001b[39;49m \u001b[39m*\u001b[39;49m \u001b[39mself\u001b[39;49m\u001b[39m.\u001b[39;49mrho(f))\n\u001b[1;32m    756\u001b[0m     \u001b[39m-\u001b[39;49m \u001b[39m2\u001b[39;49m \u001b[39m*\u001b[39;49m r\u001b[39m*\u001b[39;49m\u001b[39m*\u001b[39;49m\u001b[39m2\u001b[39;49m \u001b[39m*\u001b[39;49m \u001b[39mself\u001b[39;49m\u001b[39m.\u001b[39;49mrho(r) \u001b[39m*\u001b[39;49m f_deriv \u001b[39m/\u001b[39;49m (f\u001b[39m*\u001b[39;49m\u001b[39m*\u001b[39;49m\u001b[39m3\u001b[39;49m \u001b[39m*\u001b[39;49m \u001b[39mself\u001b[39;49m\u001b[39m.\u001b[39;49mrho(f))\n\u001b[1;32m    757\u001b[0m     \u001b[39m+\u001b[39;49m r\u001b[39m*\u001b[39;49m\u001b[39m*\u001b[39;49m\u001b[39m2\u001b[39;49m \u001b[39m*\u001b[39;49m \u001b[39mself\u001b[39;49m\u001b[39m.\u001b[39;49mrho_deriv(r) \u001b[39m/\u001b[39;49m (f\u001b[39m*\u001b[39;49m\u001b[39m*\u001b[39;49m\u001b[39m2\u001b[39;49m \u001b[39m*\u001b[39;49m \u001b[39mself\u001b[39;49m\u001b[39m.\u001b[39;49mrho(f))\n\u001b[1;32m    758\u001b[0m     \u001b[39m-\u001b[39;49m r\u001b[39m*\u001b[39;49m\u001b[39m*\u001b[39;49m\u001b[39m2\u001b[39;49m \u001b[39m*\u001b[39;49m \u001b[39mself\u001b[39;49m\u001b[39m.\u001b[39;49mrho(r) \u001b[39m*\u001b[39;49m f_deriv \u001b[39m*\u001b[39;49m \u001b[39mself\u001b[39;49m\u001b[39m.\u001b[39;49mrho_deriv(f) \u001b[39m/\u001b[39;49m (f\u001b[39m*\u001b[39;49m\u001b[39m*\u001b[39;49m\u001b[39m2\u001b[39;49m \u001b[39m*\u001b[39;49m \u001b[39mself\u001b[39;49m\u001b[39m.\u001b[39;49mrho(f) \u001b[39m*\u001b[39;49m\u001b[39m*\u001b[39;49m \u001b[39m2\u001b[39;49m)\n\u001b[1;32m    759\u001b[0m )\n",
      "\u001b[0;31mTypeError\u001b[0m: 'DynamicJaxprTracer' object is not callable"
     ]
    }
   ],
   "source": [
    "density.co_motion_function_deriv2(1.)"
   ]
  },
  {
   "cell_type": "code",
   "execution_count": 12,
   "metadata": {},
   "outputs": [
    {
     "name": "stdout",
     "output_type": "stream",
     "text": [
      "(Array([0, 0, 2, 2, 8, 8], dtype=int64), Array([0, 9, 1, 8, 2, 7], dtype=int64))\n"
     ]
    }
   ],
   "source": [
    "print(jnp.where(jnp.isnan(co_motion_functions_deriv - co_motion_functions_deriv_Ne*Ne_deriv)))"
   ]
  },
  {
   "cell_type": "code",
   "execution_count": 20,
   "metadata": {},
   "outputs": [
    {
     "data": {
      "text/plain": [
       "Array(False, dtype=bool)"
      ]
     },
     "execution_count": 20,
     "metadata": {},
     "output_type": "execute_result"
    }
   ],
   "source": [
    "jnp.allclose(co_motion_functions_deriv-co_motion_functions_deriv_Ne*Ne_deriv, jnp.zeros_like(co_motion_functions_deriv), equal_nan=True)"
   ]
  },
  {
   "cell_type": "code",
   "execution_count": 22,
   "metadata": {},
   "outputs": [
    {
     "data": {
      "text/plain": [
       "Array([[            nan,  7.75612086e-01, -1.00000000e+00,\n",
       "         1.00578541e+00, -1.00000000e+00,  1.13230699e+00,\n",
       "        -1.00000000e+00,  1.37543184e+00, -1.00000000e+00,\n",
       "                    nan],\n",
       "       [ 1.00000000e+00,  0.00000000e+00, -2.07766726e-01,\n",
       "         2.81840179e-01, -2.96510506e-01,  2.28717305e-01,\n",
       "        -1.54468748e-01, -6.49775961e-02,  8.45121880e-01,\n",
       "        -1.66335432e+00],\n",
       "       [ 1.00000000e+00,             nan,  1.11022302e-16,\n",
       "         7.99992761e-02, -8.30831434e-02,  5.22751362e-03,\n",
       "         2.11312892e-01, -3.05942281e-01,             nan,\n",
       "        -1.33859353e+00],\n",
       "       [ 1.00000000e+00,  3.92447713e-01,  7.95527279e-02,\n",
       "         0.00000000e+00,  8.52998632e-03, -6.88760092e-02,\n",
       "         6.58923404e-01, -3.49746486e-01, -1.89034919e+00,\n",
       "        -1.08306234e+00],\n",
       "       [ 1.00000000e+00,  2.98174890e-01,  8.30831434e-02,\n",
       "        -2.12135200e+10,  0.00000000e+00, -6.81737399e-02,\n",
       "         1.72809428e+15, -3.21755994e-01, -1.02793070e+00,\n",
       "        -8.81164109e-01],\n",
       "       [ 1.00000000e+00,  2.12964170e-01,  7.70742324e-03,\n",
       "        -9.59062415e-02, -2.34100045e-01,  2.22044605e-16,\n",
       "        -4.03491101e-01, -2.56781335e-01, -6.53743232e-01,\n",
       "        -7.10409280e-01],\n",
       "       [ 1.00000000e+00,  1.04767502e-01, -2.11312892e-01,\n",
       "        -1.91889210e-01,  8.52261517e+14, -1.47857171e+10,\n",
       "        -2.22044605e-16, -1.59820486e-01, -4.03791408e-01,\n",
       "        -5.55877300e-01],\n",
       "       [ 1.00000000e+00, -4.70583565e-02, -9.33019395e-01,\n",
       "        -3.25657344e-01,  1.18639459e+00, -3.57554583e-01,\n",
       "         2.19446344e-01, -1.11022302e-16, -1.97681097e-01,\n",
       "        -4.04697789e-01],\n",
       "       [ 1.00000000e+00, -2.77120194e-01,             nan,\n",
       "        -5.12671914e-01,  1.02793070e+00, -4.76114384e-01,\n",
       "         4.03791408e-01,             nan,  0.00000000e+00,\n",
       "        -2.38282591e-01],\n",
       "       [ 1.00000000e+00, -6.65114315e-01,  2.43387418e+00,\n",
       "        -7.84380104e-01,  1.07453235e+00, -6.61479124e-01,\n",
       "         5.93562001e-01, -5.63520511e-01,  2.20632177e-01,\n",
       "        -5.55111512e-17]], dtype=float64)"
      ]
     },
     "execution_count": 22,
     "metadata": {},
     "output_type": "execute_result"
    }
   ],
   "source": [
    "co_motion_functions_deriv-co_motion_functions_deriv_Ne*Ne_deriv"
   ]
  },
  {
   "cell_type": "code",
   "execution_count": null,
   "metadata": {},
   "outputs": [],
   "source": []
  }
 ],
 "metadata": {
  "kernelspec": {
   "display_name": "jaxsce",
   "language": "python",
   "name": "python3"
  },
  "language_info": {
   "codemirror_mode": {
    "name": "ipython",
    "version": 3
   },
   "file_extension": ".py",
   "mimetype": "text/x-python",
   "name": "python",
   "nbconvert_exporter": "python",
   "pygments_lexer": "ipython3",
   "version": "3.10.9"
  },
  "orig_nbformat": 4
 },
 "nbformat": 4,
 "nbformat_minor": 2
}
